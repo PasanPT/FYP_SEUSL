{
  "nbformat": 4,
  "nbformat_minor": 0,
  "metadata": {
    "colab": {
      "provenance": [],
      "authorship_tag": "ABX9TyOE2VW5TNS1c56+bClykLH3",
      "include_colab_link": true
    },
    "kernelspec": {
      "name": "python3",
      "display_name": "Python 3"
    },
    "language_info": {
      "name": "python"
    }
  },
  "cells": [
    {
      "cell_type": "markdown",
      "metadata": {
        "id": "view-in-github",
        "colab_type": "text"
      },
      "source": [
        "<a href=\"https://colab.research.google.com/github/PasanPT/FYP_SEUSL/blob/main/Ground_Remove_Volume_Estimate.ipynb\" target=\"_parent\"><img src=\"https://colab.research.google.com/assets/colab-badge.svg\" alt=\"Open In Colab\"/></a>"
      ]
    },
    {
      "cell_type": "code",
      "execution_count": null,
      "metadata": {
        "id": "XbWzs58jGAf3"
      },
      "outputs": [],
      "source": [
        "import numpy as np\n",
        "import matplotlib.pyplot as plt\n",
        "from mpl_toolkits.mplot3d import Axes3D\n",
        "import open3d as o3d\n",
        "import trimesh\n",
        "\n",
        "# Load the point cloud from the file (adjust the filename as needed)\n",
        "point_cloud = o3d.io.read_point_cloud(\"/content/capture_data.ply\")\n",
        "\n",
        "# Filter the stockpile points based on Z-value\n",
        "threshold_z = 1380  # Adjust this value based on your data\n",
        "stockpile_points = np.asarray(point_cloud.points)[point_cloud.points[:, 2] < threshold_z]\n",
        "\n",
        "# Update the point cloud with filtered points\n",
        "point_cloud.points = o3d.utility.Vector3dVector(stockpile_points)\n",
        "\n",
        "# Flip the point cloud along the Z-axis\n",
        "stockpile_points = np.asarray(point_cloud.points)\n",
        "stockpile_points[:, 2] = -stockpile_points[:, 2]\n",
        "point_cloud.points = o3d.utility.Vector3dVector(stockpile_points)\n",
        "\n",
        "# Recalculate normals after flipping\n",
        "point_cloud.estimate_normals()\n",
        "\n",
        "# Estimate radius for ball pivoting\n",
        "distances = point_cloud.compute_nearest_neighbor_distance()\n",
        "avg_dist = np.mean(distances)\n",
        "radius = 1.5 * avg_dist\n",
        "\n",
        "# Create a mesh from the point cloud using ball pivoting algorithm\n",
        "mesh = o3d.geometry.TriangleMesh.create_from_point_cloud_ball_pivoting(\n",
        "    point_cloud, o3d.utility.DoubleVector([radius, radius * 2])\n",
        ")\n",
        "\n",
        "# Convert the mesh to a trimesh object\n",
        "tri_mesh = trimesh.Trimesh(\n",
        "    np.asarray(mesh.vertices),\n",
        "    np.asarray(mesh.triangles),\n",
        "    vertex_normals=np.asarray(mesh.vertex_normals),\n",
        ")\n",
        "\n",
        "# Compute the convex hull of the mesh\n",
        "convex_hull_mesh = tri_mesh.convex_hull\n",
        "\n",
        "# Check if the mesh is convex\n",
        "is_convex = trimesh.convex.is_convex(convex_hull_mesh)\n",
        "\n",
        "# Compute the volume of the convex hull\n",
        "volume = convex_hull_mesh.volume\n",
        "volume = volume / 95823138.44 * 3  # Adjust the scaling factor if needed\n",
        "\n",
        "print(f\"Is the mesh convex? {is_convex}\")\n",
        "print(f\"Estimated volume of the stockpile: {volume:.2f} cubic units\")\n"
      ]
    }
  ]
}